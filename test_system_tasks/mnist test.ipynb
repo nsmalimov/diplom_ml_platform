{
 "cells": [
  {
   "cell_type": "code",
   "execution_count": 1,
   "metadata": {
    "collapsed": true
   },
   "outputs": [],
   "source": [
    "def prepare_data():\n",
    "    data = []\n",
    "    f = open(\"/Users/Nurislam/PycharmProjects/diplom_ml_platform/test/data/digits.csv\", \"r\")\n",
    "\n",
    "    for i in f.readlines():\n",
    "        s = i.replace(\"\\n\", \"\")\n",
    "        s_split = s.split(\",\")\n",
    "        s_new = \",\".join(s_split[1:]) + \",\" + s_split[0]\n",
    "        data.append(s_new)\n",
    "    f.close()\n",
    "\n",
    "    f = open(\"/Users/Nurislam/Documents/ml_analysis_ws/test/data/digits.csv\", \"w\")\n",
    "\n",
    "    for i in data:\n",
    "        f.write(i + \"\\n\")\n",
    "    f.close()\n",
    "\n",
    "#prepare_data()\n",
    "\n",
    "X, Y = [], []\n",
    "\n",
    "f = open(\"/Users/Nurislam/Documents/ml_analysis_ws/test/data/digits.csv\", \"r\")\n",
    "\n",
    "for i in f.readlines():\n",
    "    s = i.replace(\"\\n\", \"\")\n",
    "    s_split = s.split(\",\")\n",
    "\n",
    "    X.append([float(i) for i in s_split[:-1]])\n",
    "    Y.append(s_split[-1])\n",
    "\n",
    "f.close()\n",
    "\n",
    "# dict_1 = {}\n",
    "#\n",
    "# for i in Y:\n",
    "#     if i in dict_1:\n",
    "#         dict_1[i] += 1\n",
    "#     else:\n",
    "#         dict_1[i] = 1\n",
    "#\n",
    "# for i in dict_1:\n",
    "#     print (str(i) + str(dict_1[i]))"
   ]
  },
  {
   "cell_type": "code",
   "execution_count": 2,
   "metadata": {
    "collapsed": false
   },
   "outputs": [
    {
     "name": "stderr",
     "output_type": "stream",
     "text": [
      "/Library/Frameworks/Python.framework/Versions/3.5/lib/python3.5/site-packages/sklearn/cross_validation.py:44: DeprecationWarning: This module was deprecated in version 0.18 in favor of the model_selection module into which all the refactored classes and functions are moved. Also note that the interface of the new CV iterators are different from that of this module. This module will be removed in 0.20.\n",
      "  \"This module will be removed in 0.20.\", DeprecationWarning)\n"
     ]
    }
   ],
   "source": [
    "from sklearn.cross_validation import train_test_split\n",
    "X_train, X_test, Y_train, Y_test = train_test_split(X, Y, test_size=0.33, random_state=42)"
   ]
  },
  {
   "cell_type": "code",
   "execution_count": 8,
   "metadata": {
    "collapsed": false
   },
   "outputs": [],
   "source": [
    "from sklearn.metrics import adjusted_rand_score\n",
    "from sklearn.cluster import AffinityPropagation\n",
    "from sklearn.cluster import Birch\n",
    "\n",
    "def kmeans():\n",
    "    from sklearn.cluster import KMeans\n",
    "    import numpy as np\n",
    "    kmeans = KMeans(n_clusters=10).fit(X_train)\n",
    "    predicted = kmeans.predict(X_test)\n",
    "\n",
    "    print (adjusted_rand_score(Y_test, predicted))\n",
    "\n",
    "def affinity_propagation():\n",
    "    ap = AffinityPropagation().fit(X_train)\n",
    "    predicted = kmeans.predict(X_test)\n",
    "\n",
    "    print (adjusted_rand_score(Y_test, predicted))\n",
    "\n",
    "def birch():\n",
    "    brc = Birch(n_clusters=10).fit(X)\n",
    "    predicted = kmeans.predict(X_test)\n",
    "\n",
    "    print (adjusted_rand_score(Y_test, predicted))\n",
    "\n",
    "#\\item k-means \\cite{md};\n",
    "#\\item Affinity Propagation \\cite{md};\n",
    "#\\item Birch \\cite{md}.\n",
    "#\\end{enumerate}"
   ]
  },
  {
   "cell_type": "code",
   "execution_count": 9,
   "metadata": {
    "collapsed": false
   },
   "outputs": [
    {
     "name": "stdout",
     "output_type": "stream",
     "text": [
      "0.365223137213\n"
     ]
    }
   ],
   "source": [
    "kmeans()"
   ]
  },
  {
   "cell_type": "code",
   "execution_count": null,
   "metadata": {
    "collapsed": true
   },
   "outputs": [],
   "source": [
    "affinity_propagation()"
   ]
  },
  {
   "cell_type": "code",
   "execution_count": null,
   "metadata": {
    "collapsed": true
   },
   "outputs": [],
   "source": [
    "birch()"
   ]
  },
  {
   "cell_type": "code",
   "execution_count": null,
   "metadata": {
    "collapsed": true
   },
   "outputs": [],
   "source": [
    ""
   ]
  }
 ],
 "metadata": {
  "kernelspec": {
   "display_name": "Python 3",
   "language": "python",
   "name": "python3"
  },
  "language_info": {
   "codemirror_mode": {
    "name": "ipython",
    "version": 3.0
   },
   "file_extension": ".py",
   "mimetype": "text/x-python",
   "name": "python",
   "nbconvert_exporter": "python",
   "pygments_lexer": "ipython3",
   "version": "3.5.2"
  }
 },
 "nbformat": 4,
 "nbformat_minor": 0
}